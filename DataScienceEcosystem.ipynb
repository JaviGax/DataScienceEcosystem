{
  "metadata": {
    "kernelspec": {
      "name": "python",
      "display_name": "Python (Pyodide)",
      "language": "python"
    },
    "language_info": {
      "codemirror_mode": {
        "name": "python",
        "version": 3
      },
      "file_extension": ".py",
      "mimetype": "text/x-python",
      "name": "python",
      "nbconvert_exporter": "python",
      "pygments_lexer": "ipython3",
      "version": "3.8"
    }
  },
  "nbformat_minor": 5,
  "nbformat": 4,
  "cells": [
    {
      "id": "9cd6fdb1-b67d-45cf-bf8c-0de0cf2239f2",
      "cell_type": "markdown",
      "source": "# Data Science Tools and Ecosystem",
      "metadata": {}
    },
    {
      "id": "70e1415c-bd8c-46c2-8938-255d8cb68cc8",
      "cell_type": "markdown",
      "source": "In this notebook, Data Science Tools and Ecosystem are summarized.",
      "metadata": {}
    },
    {
      "id": "103aa305-4e09-4cf4-ac6c-4b58c1aff441",
      "cell_type": "markdown",
      "source": "**Objectives:**\n\n* List of popular languages for Data Science\n* Commonly used libraries used by Data Scientists\n* Data Science Tools",
      "metadata": {}
    },
    {
      "id": "4b165f43-43e8-41bf-ad86-bf821eefad08",
      "cell_type": "markdown",
      "source": "Some of the popular languages that Data Scientists use are:\n\n1. Python\n2. R\n3. SQL\n4. Julia\n5. Sacala\n6. Java\n7. MATALAB",
      "metadata": {}
    },
    {
      "id": "6a657596-6417-4eb7-8024-663d85bbf556",
      "cell_type": "markdown",
      "source": "Some of the commonly used libraries used by Data Scientists include:\n\n1. Numpy\n2. Pandas\n3. Matplotlib\n4. Seaborn\n5. Scikit-learn",
      "metadata": {}
    },
    {
      "id": "cc33e6b7-17f5-4885-8dde-d305b979779e",
      "cell_type": "markdown",
      "source": "|Data Science Tools|\n|-----|\n|Jupyter Notebook|\n|Jupyter Lab|\n|RStudio|",
      "metadata": {}
    },
    {
      "id": "6bb402db-5da3-4518-8c06-702425d6d7ef",
      "cell_type": "markdown",
      "source": "### Below are a few examples of evaluating arithmetic expressions in Python.\n\n",
      "metadata": {}
    },
    {
      "id": "c4c4162a-397d-4ece-8f64-76f97c8c1081",
      "cell_type": "code",
      "source": "#This a simple arithmetic expression to mutiply then add integers\n(3*4)+5",
      "metadata": {
        "trusted": true
      },
      "outputs": [
        {
          "execution_count": 7,
          "output_type": "execute_result",
          "data": {
            "text/plain": "17"
          },
          "metadata": {}
        }
      ],
      "execution_count": 7
    },
    {
      "id": "130cd8e9-b9c4-481c-b962-21649cc31e16",
      "cell_type": "code",
      "source": "#This will convert 200 minutes to hours by diving by 60.\n200/60",
      "metadata": {
        "trusted": true
      },
      "outputs": [
        {
          "execution_count": 9,
          "output_type": "execute_result",
          "data": {
            "text/plain": "3.3333333333333335"
          },
          "metadata": {}
        }
      ],
      "execution_count": 9
    },
    {
      "id": "be74a9a5-bf7e-4390-92a8-77ffd67f1e29",
      "cell_type": "markdown",
      "source": "## Author\n\nJavier Gaxiola",
      "metadata": {}
    },
    {
      "id": "bed2f659-9e39-4d04-b4ff-8598c5fe1560",
      "cell_type": "markdown",
      "source": "",
      "metadata": {}
    }
  ]
}